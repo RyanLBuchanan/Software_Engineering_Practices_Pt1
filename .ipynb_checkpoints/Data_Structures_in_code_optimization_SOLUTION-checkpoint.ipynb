{
 "cells": [
  {
   "cell_type": "markdown",
   "metadata": {
    "id": "PLDyUYxdXVIO"
   },
   "source": [
    "# Understanding how the use of righ data structure helps in Code Optimization\n",
    "\n"
   ]
  },
  {
   "cell_type": "markdown",
   "metadata": {
    "id": "f68faBD_Xg0p"
   },
   "source": [
    "The task we are about to perform is to find commond elements between two datapoints. \n",
    "> Datasets are:\n",
    ">> 1. all_coding_books.txt: contains the id of all the books written about coding in last two years\n",
    ">> 2. books_published_last_two_years.txt: contains the id of all books written in the last two years\n"
   ]
  },
  {
   "cell_type": "markdown",
   "metadata": {
    "id": "6LKIPArMYTKw"
   },
   "source": [
    "> The first easily understood method that comes to our mind will be to store the data in two lists, compare the lists using for loop"
   ]
  },
  {
   "cell_type": "code",
   "execution_count": null,
   "metadata": {
    "id": "JSncdsIYYvyx"
   },
   "outputs": [],
   "source": [
    "#Import libraries\n",
    "import time\n",
    "import pandas as pd\n",
    "import numpy as np"
   ]
  },
  {
   "cell_type": "code",
   "execution_count": null,
   "metadata": {
    "id": "jivZjLmtU8DO"
   },
   "outputs": [],
   "source": [
    "#Store both the file data to a csv as a list\n",
    "with open('books_published_last_two_years.txt') as f:\n",
    "    recent_books = f.read().split('\\n')\n",
    "    \n",
    "with open('all_coding_books.txt') as f:\n",
    "    coding_books = f.read().split('\\n')"
   ]
  },
  {
   "cell_type": "code",
   "execution_count": null,
   "metadata": {
    "colab": {
     "base_uri": "https://localhost:8080/",
     "height": 52
    },
    "id": "9rJglCbrY-mx",
    "outputId": "b79dfeb4-7f02-4581-f789-6f7a2b19c18b"
   },
   "outputs": [
    {
     "name": "stdout",
     "output_type": "stream",
     "text": [
      "There are 96 coding books released recently\n",
      "Duration: 11.54421329498291 seconds\n"
     ]
    }
   ],
   "source": [
    "start = time.time()\n",
    "recent_coding_books = []\n",
    "\n",
    "for book in recent_books:\n",
    "    if book in coding_books:\n",
    "      recent_coding_books.append(book)\n",
    "print(\"There are \" + str(len(recent_coding_books)) + \" coding books released recently\")\n",
    "print('Duration: {} seconds'.format(time.time() - start))"
   ]
  },
  {
   "cell_type": "markdown",
   "metadata": {
    "id": "PFWAVezKec6X"
   },
   "source": [
    "Let's try using the data structure of sets instead of lists to improve the speed of search\n",
    "> Note: While using sets we can also use the vector function intersection to check for common elements."
   ]
  },
  {
   "cell_type": "code",
   "execution_count": null,
   "metadata": {
    "colab": {
     "base_uri": "https://localhost:8080/",
     "height": 52
    },
    "id": "KKj0hS4qeMm8",
    "outputId": "a34f7121-c98f-4901-ead4-f5833a7483ce"
   },
   "outputs": [
    {
     "name": "stdout",
     "output_type": "stream",
     "text": [
      "There are 96 coding books released recently\n",
      "Duration: 0.011107206344604492 seconds\n"
     ]
    }
   ],
   "source": [
    "start = time.time()\n",
    "recent_coding_books = set(recent_books).intersection(coding_books)\n",
    "print(\"There are \" + str(len(recent_coding_books)) + \" coding books released recently\")\n",
    "print('Duration: {} seconds'.format(time.time() - start))\n",
    "\n"
   ]
  },
  {
   "cell_type": "markdown",
   "metadata": {
    "id": "j6WMDI_yfQvH"
   },
   "source": [
    "**Observation:** Using of sets is more efficient in terms of time in this case. "
   ]
  }
 ],
 "metadata": {
  "colab": {
   "name": "Data Structures in code optimization .ipynb",
   "provenance": []
  },
  "kernelspec": {
   "display_name": "Python 3",
   "language": "python",
   "name": "python3"
  },
  "language_info": {
   "codemirror_mode": {
    "name": "ipython",
    "version": 3
   },
   "file_extension": ".py",
   "mimetype": "text/x-python",
   "name": "python",
   "nbconvert_exporter": "python",
   "pygments_lexer": "ipython3",
   "version": "3.7.6"
  },
  "varInspector": {
   "cols": {
    "lenName": 16,
    "lenType": 16,
    "lenVar": 40
   },
   "kernels_config": {
    "python": {
     "delete_cmd_postfix": "",
     "delete_cmd_prefix": "del ",
     "library": "var_list.py",
     "varRefreshCmd": "print(var_dic_list())"
    },
    "r": {
     "delete_cmd_postfix": ") ",
     "delete_cmd_prefix": "rm(",
     "library": "var_list.r",
     "varRefreshCmd": "cat(var_dic_list()) "
    }
   },
   "types_to_exclude": [
    "module",
    "function",
    "builtin_function_or_method",
    "instance",
    "_Feature"
   ],
   "window_display": false
  }
 },
 "nbformat": 4,
 "nbformat_minor": 1
}
